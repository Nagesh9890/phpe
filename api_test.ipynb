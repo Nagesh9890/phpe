{
 "cells": [
  {
   "cell_type": "code",
   "execution_count": 15,
   "metadata": {
    "collapsed": true
   },
   "outputs": [],
   "source": [
    "import pandas as pd\n",
    "import requests"
   ]
  },
  {
   "cell_type": "code",
   "execution_count": 21,
   "metadata": {
    "collapsed": true
   },
   "outputs": [],
   "source": [
    "url = 'http://localhost:5000/predict'"
   ]
  },
  {
   "cell_type": "code",
   "execution_count": 22,
   "metadata": {
    "collapsed": false
   },
   "outputs": [
    {
     "name": "stdout",
     "output_type": "stream",
     "text": [
      "('Response Content:', u'{\\n  \"error\": \"No data provided\"\\n}\\n')\n",
      "('Response Status Code:', 400)\n"
     ]
    }
   ],
   "source": [
    "response = requests.get(url)\n",
    "\n",
    "print(\"Response Content:\", response.text)\n",
    "print(\"Response Status Code:\", response.status_code)"
   ]
  },
  {
   "cell_type": "code",
   "execution_count": 23,
   "metadata": {
    "collapsed": false
   },
   "outputs": [
    {
     "name": "stdout",
     "output_type": "stream",
     "text": [
      "('Response Content:', u'[]\\n')\n",
      "('Response Status Code:', 200)\n"
     ]
    }
   ],
   "source": [
    "# Replace with your input JSON data\n",
    "input_data = {\n",
    "    \"payer_name\": \"VIGNESH\",\n",
    "    \"payer_vpa\": \"7019270274@ybl\",\n",
    "    \"payee_account_type\": \"SAVINGS\",\n",
    "    \"payee_name\": \"PAVAN BAR\",\n",
    "    \"payee_vpa\": \"gpay-11200233635@okbizaxis\",\n",
    "    \"payer_account_type\": \"SAVINGS\"\n",
    "}\n",
    "\n",
    "response = requests.post(url, json=input_data)\n",
    "\n",
    "print(\"Response Content:\", response.text)\n",
    "print(\"Response Status Code:\", response.status_code)"
   ]
  },
  {
   "cell_type": "code",
   "execution_count": 19,
   "metadata": {
    "collapsed": false
   },
   "outputs": [
    {
     "data": {
      "text/plain": [
       "{'payee_account_type': 'payee_account_type_1',\n",
       " 'payee_name': 'payee_name_1',\n",
       " 'payee_vpa': 'payee_vpa_1',\n",
       " 'payer_account_type': 'payer_account_type_1',\n",
       " 'payer_name': 'payer_name_1',\n",
       " 'payer_vpa': 'payer_vpa_1'}"
      ]
     },
     "execution_count": 19,
     "metadata": {},
     "output_type": "execute_result"
    }
   ],
   "source": [
    "input_data"
   ]
  },
  {
   "cell_type": "code",
   "execution_count": 24,
   "metadata": {
    "collapsed": false
   },
   "outputs": [
    {
     "ename": "TypeError",
     "evalue": "list indices must be integers, not str",
     "output_type": "error",
     "traceback": [
      "\u001b[1;31m\u001b[0m",
      "\u001b[1;31mTypeError\u001b[0mTraceback (most recent call last)",
      "\u001b[1;32m<ipython-input-24-7ed1a4a59139>\u001b[0m in \u001b[0;36m<module>\u001b[1;34m()\u001b[0m\n\u001b[0;32m      3\u001b[0m \u001b[1;32mif\u001b[0m \u001b[0mresponse\u001b[0m\u001b[1;33m.\u001b[0m\u001b[0mstatus_code\u001b[0m \u001b[1;33m==\u001b[0m \u001b[1;36m200\u001b[0m\u001b[1;33m:\u001b[0m\u001b[1;33m\u001b[0m\u001b[0m\n\u001b[0;32m      4\u001b[0m     \u001b[0mdata\u001b[0m \u001b[1;33m=\u001b[0m \u001b[0mresponse\u001b[0m\u001b[1;33m.\u001b[0m\u001b[0mjson\u001b[0m\u001b[1;33m(\u001b[0m\u001b[1;33m)\u001b[0m\u001b[1;33m\u001b[0m\u001b[0m\n\u001b[1;32m----> 5\u001b[1;33m     \u001b[0mcat1_prediction\u001b[0m \u001b[1;33m=\u001b[0m \u001b[0mdata\u001b[0m\u001b[1;33m[\u001b[0m\u001b[1;34m'predictions'\u001b[0m\u001b[1;33m]\u001b[0m\u001b[1;33m[\u001b[0m\u001b[1;34m'cat1_prediction'\u001b[0m\u001b[1;33m]\u001b[0m\u001b[1;33m\u001b[0m\u001b[0m\n\u001b[0m\u001b[0;32m      6\u001b[0m     \u001b[0mcat2_prediction\u001b[0m \u001b[1;33m=\u001b[0m \u001b[0mdata\u001b[0m\u001b[1;33m[\u001b[0m\u001b[1;34m'predictions'\u001b[0m\u001b[1;33m]\u001b[0m\u001b[1;33m[\u001b[0m\u001b[1;34m'cat2_prediction'\u001b[0m\u001b[1;33m]\u001b[0m\u001b[1;33m\u001b[0m\u001b[0m\n\u001b[0;32m      7\u001b[0m \u001b[1;33m\u001b[0m\u001b[0m\n",
      "\u001b[1;31mTypeError\u001b[0m: list indices must be integers, not str"
     ]
    }
   ],
   "source": [
    "response = requests.post(url, json=input_data)\n",
    "\n",
    "if response.status_code == 200:\n",
    "    data = response.json()\n",
    "    cat1_prediction = data['predictions']['cat1_prediction']\n",
    "    cat2_prediction = data['predictions']['cat2_prediction']\n",
    "    \n",
    "    print(\"Cat1 Prediction:\", cat1_prediction)\n",
    "    print(\"Cat2 Prediction:\", cat2_prediction)\n",
    "else:\n",
    "    print(\"Error:\", response.text)"
   ]
  },
  {
   "cell_type": "code",
   "execution_count": 40,
   "metadata": {
    "collapsed": false
   },
   "outputs": [],
   "source": [
    "response = requests.post(url, json=input_data)\n",
    "\n",
    "if response.status_code == 200:\n",
    "    predictions_list = response.json()\n",
    "    \n",
    "    for predictions in predictions_list:\n",
    "        print(\"here\",predictions)\n",
    "        input_data = predictions['input_data']\n",
    "        cat1_prediction = predictions['cat1_prediction']\n",
    "        cat2_prediction = predictions['cat2_prediction']\n",
    "        print(predictions_list)\n",
    "\n",
    "        print(\"Input Data:\", input_data)\n",
    "        print(\"Cat1 Prediction:\", cat1_prediction)\n",
    "        print(\"Cat2 Prediction:\", cat2_prediction)\n",
    "        print()\n",
    "else:\n",
    "    print(\"Error:\", response.text)"
   ]
  },
  {
   "cell_type": "code",
   "execution_count": 39,
   "metadata": {
    "collapsed": false
   },
   "outputs": [
    {
     "ename": "NameError",
     "evalue": "name 'predictions' is not defined",
     "output_type": "error",
     "traceback": [
      "\u001b[1;31m\u001b[0m",
      "\u001b[1;31mNameError\u001b[0mTraceback (most recent call last)",
      "\u001b[1;32m<ipython-input-39-1ad18da0080a>\u001b[0m in \u001b[0;36m<module>\u001b[1;34m()\u001b[0m\n\u001b[1;32m----> 1\u001b[1;33m \u001b[0mpredictions\u001b[0m\u001b[1;33m\u001b[0m\u001b[0m\n\u001b[0m",
      "\u001b[1;31mNameError\u001b[0m: name 'predictions' is not defined"
     ]
    }
   ],
   "source": [
    "predictions"
   ]
  },
  {
   "cell_type": "code",
   "execution_count": null,
   "metadata": {
    "collapsed": true
   },
   "outputs": [],
   "source": []
  }
 ],
 "metadata": {
  "kernelspec": {
   "display_name": "Python [Root]",
   "language": "python",
   "name": "Python [Root]"
  },
  "language_info": {
   "codemirror_mode": {
    "name": "ipython",
    "version": 2
   },
   "file_extension": ".py",
   "mimetype": "text/x-python",
   "name": "python",
   "nbconvert_exporter": "python",
   "pygments_lexer": "ipython2",
   "version": "2.7.12"
  }
 },
 "nbformat": 4,
 "nbformat_minor": 0
}
