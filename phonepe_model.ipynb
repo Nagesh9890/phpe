{
 "cells": [
  {
   "cell_type": "code",
   "execution_count": 1,
   "metadata": {
    "collapsed": false
   },
   "outputs": [
    {
     "data": {
      "text/plain": [
       "u'/data04/notebooks/vish.ai/phonepe'"
      ]
     },
     "execution_count": 1,
     "metadata": {},
     "output_type": "execute_result"
    }
   ],
   "source": [
    "pwd"
   ]
  },
  {
   "cell_type": "code",
   "execution_count": 2,
   "metadata": {
    "collapsed": true
   },
   "outputs": [],
   "source": [
    "#Importing Libraries\n",
    "import numpy as np\n",
    "import pandas as pd\n",
    "from sklearn.cross_validation import train_test_split\n",
    "from sklearn.preprocessing import StandardScaler\n",
    "from sklearn.ensemble import RandomForestClassifier\n",
    "from sklearn.metrics import confusion_matrix\n",
    "from sklearn.feature_extraction.text import TfidfVectorizer\n",
    "from sklearn.metrics import accuracy_score\n",
    "\n",
    "#from sklearn.externals import joblib"
   ]
  },
  {
   "cell_type": "code",
   "execution_count": 3,
   "metadata": {
    "collapsed": true
   },
   "outputs": [],
   "source": [
    "import pyspark\n",
    "from pyspark.context import SparkContext\n",
    "from pyspark.sql import SQLContext, HiveContext\n",
    "from pyspark.storagelevel import StorageLevel\n",
    "from ConfigParser import ConfigParser\n",
    "import sys\n",
    "import datetime\n",
    "import commands\n",
    "from dateutil import parser\n",
    "from dateutil.relativedelta import relativedelta\n",
    "from pyspark.sql import functions as F\n",
    "from pyspark.sql.functions import substring\n",
    "from pyspark.sql import types as T,Window\n",
    "from pyspark import Row\n",
    "from datetime import datetime, timedelta\n",
    "import sys"
   ]
  },
  {
   "cell_type": "code",
   "execution_count": 5,
   "metadata": {
    "collapsed": false
   },
   "outputs": [
    {
     "data": {
      "text/plain": [
       "Index([u'upi_transaction_id', u'transaction_type', u'transaction_reference_id',\n",
       "       u'customer_reference_number', u'note', u'payer_account_number',\n",
       "       u'payer_account_type', u'payer_ifsc', u'payer_name', u'payer_vpa',\n",
       "       u'payer_amount', u'payee_account_number', u'payee_account_type',\n",
       "       u'payee_ifsc', u'payee_name', u'payee_vpa', u'payee_amount', u'state',\n",
       "       u'created', u'updated', u'data_dt', u'phone_number', u'account_number',\n",
       "       u'account_type', u'account_ifsc', u'account_holder_name',\n",
       "       u'mbanking_enabled', u'registered_at_acct', u'Category1', u'Category2'],\n",
       "      dtype='object')"
      ]
     },
     "execution_count": 5,
     "metadata": {},
     "output_type": "execute_result"
    }
   ],
   "source": [
    "df = pd.read_excel(\"PhonePe_Sherloc_Categories.xlsx\")  # Replace with the path to your dataset\n",
    "df.columns"
   ]
  },
  {
   "cell_type": "code",
   "execution_count": 6,
   "metadata": {
    "collapsed": true
   },
   "outputs": [],
   "source": [
    "df2 = df[['payer_name','payer_vpa','payee_account_type','payee_name','payee_vpa','payer_account_type', 'Category1','Category2']]"
   ]
  },
  {
   "cell_type": "code",
   "execution_count": 7,
   "metadata": {
    "collapsed": false
   },
   "outputs": [
    {
     "name": "stderr",
     "output_type": "stream",
     "text": [
      "/opt/anaconda/anaconda2/lib/python2.7/site-packages/ipykernel/__main__.py:21: SettingWithCopyWarning: \n",
      "A value is trying to be set on a copy of a slice from a DataFrame.\n",
      "Try using .loc[row_indexer,col_indexer] = value instead\n",
      "\n",
      "See the caveats in the documentation: http://pandas.pydata.org/pandas-docs/stable/indexing.html#indexing-view-versus-copy\n",
      "/opt/anaconda/anaconda2/lib/python2.7/site-packages/ipykernel/__main__.py:25: SettingWithCopyWarning: \n",
      "A value is trying to be set on a copy of a slice from a DataFrame.\n",
      "Try using .loc[row_indexer,col_indexer] = value instead\n",
      "\n",
      "See the caveats in the documentation: http://pandas.pydata.org/pandas-docs/stable/indexing.html#indexing-view-versus-copy\n"
     ]
    }
   ],
   "source": [
    "def custom_tokenizer(text):\n",
    "    # split the text and value using regular expression\n",
    "    import re\n",
    "    pattern = re.compile(r'[a-zA-Z]+\\d+')\n",
    "    text_and_value = pattern.findall(text)\n",
    "    return text_and_value\n",
    "# Apply TF-Vectorization on data \n",
    "tfidf_payer_name = TfidfVectorizer()\n",
    "tfidf_matrix_payer_name = tfidf_payer_name.fit_transform(df2['payer_name'].astype(str))\n",
    "\n",
    "tfidf_payee_name = TfidfVectorizer()\n",
    "tfidf_matrix_payee_name = tfidf_payee_name.fit_transform(df2['payee_name'].astype(str))\n",
    "\n",
    "tfidf_payee_account_type = TfidfVectorizer()\n",
    "tfidf_matrix_payee_account_type = tfidf_payee_account_type.fit_transform(df2['payee_account_type'].astype(str))\n",
    "\n",
    "tfidf_payer_account_type = TfidfVectorizer()\n",
    "tfidf_matrix_payer_account_type = tfidf_payer_account_type.fit_transform(df2['payer_account_type'].astype(str))\n",
    "\n",
    "tfidf_payer_vpa = TfidfVectorizer(tokenizer=custom_tokenizer)\n",
    "df2['payer_vpa'] = df2['payer_vpa'].astype(str)\n",
    "tfidf_matrix_payer_vpa = tfidf_payer_vpa.fit_transform(df2['payer_vpa'])\n",
    "\n",
    "tfidf_payee_vpa = TfidfVectorizer(tokenizer=custom_tokenizer)\n",
    "df2['payee_vpa'] = df2['payee_vpa'].astype(str)\n",
    "tfidf_matrix_payee_vpa = tfidf_payee_vpa.fit_transform(df2['payee_vpa'])\n",
    "\n",
    "\n",
    "tfidf_matrix = pd.concat([pd.DataFrame(tfidf_matrix_payer_name.toarray()),\n",
    "                          pd.DataFrame(tfidf_matrix_payee_name.toarray()), \n",
    "                          pd.DataFrame(tfidf_matrix_payee_account_type.toarray()), \n",
    "                          pd.DataFrame(tfidf_matrix_payer_account_type.toarray()),\n",
    "                          pd.DataFrame(tfidf_matrix_payer_vpa.toarray()),\n",
    "                          pd.DataFrame(tfidf_matrix_payee_vpa.toarray())], axis=1)"
   ]
  },
  {
   "cell_type": "code",
   "execution_count": 8,
   "metadata": {
    "collapsed": true
   },
   "outputs": [],
   "source": [
    "X_train, X_test, y_cat1_train, y_cat1_test, y_cat2_train, y_cat2_test = train_test_split(tfidf_matrix, df2['Category1'], df2['Category2'], test_size=0.2, random_state=42)"
   ]
  },
  {
   "cell_type": "code",
   "execution_count": 9,
   "metadata": {
    "collapsed": true
   },
   "outputs": [],
   "source": [
    "clf_cat1 = RandomForestClassifier() \n",
    "\n",
    "clf_cat1.fit(X_train, y_cat1_train) \n",
    "\n",
    "clf_cat2 = RandomForestClassifier() \n",
    "clf_cat2.fit(X_train, y_cat2_train) # Make predictions for each target variable \n",
    "\n",
    "predictions_cat1 = clf_cat1.predict(X_test) \n",
    "predictions_cat2 = clf_cat2.predict(X_test)"
   ]
  },
  {
   "cell_type": "code",
   "execution_count": 18,
   "metadata": {
    "collapsed": false
   },
   "outputs": [
    {
     "name": "stdout",
     "output_type": "stream",
     "text": [
      "('Accuracy:', 0.97218863361547758)\n"
     ]
    }
   ],
   "source": [
    "#class 1 accuracy\n",
    "accuracy = clf_cat1.score(X_test, y_cat1_test)\n",
    "print('Accuracy:', accuracy)"
   ]
  },
  {
   "cell_type": "code",
   "execution_count": 19,
   "metadata": {
    "collapsed": false
   },
   "outputs": [
    {
     "name": "stdout",
     "output_type": "stream",
     "text": [
      "('Accuracy:', 0.96070133010882708)\n"
     ]
    }
   ],
   "source": [
    "#class 2 accuracy\n",
    "accuracy = clf_cat2.score(X_test, y_cat2_test)\n",
    "print('Accuracy:', accuracy)"
   ]
  },
  {
   "cell_type": "code",
   "execution_count": 15,
   "metadata": {
    "collapsed": false
   },
   "outputs": [
    {
     "data": {
      "text/html": [
       "<div>\n",
       "<table border=\"1\" class=\"dataframe\">\n",
       "  <thead>\n",
       "    <tr style=\"text-align: right;\">\n",
       "      <th></th>\n",
       "      <th>payer_name</th>\n",
       "      <th>payer_vpa</th>\n",
       "      <th>payee_account_type</th>\n",
       "      <th>payee_name</th>\n",
       "      <th>payee_vpa</th>\n",
       "      <th>payer_account_type</th>\n",
       "      <th>Category1</th>\n",
       "      <th>Category2</th>\n",
       "    </tr>\n",
       "  </thead>\n",
       "  <tbody>\n",
       "    <tr>\n",
       "      <th>0</th>\n",
       "      <td>H VIGNESH</td>\n",
       "      <td>7019270274@ybl</td>\n",
       "      <td>SAVINGS</td>\n",
       "      <td>PAVAN BAR</td>\n",
       "      <td>gpay-11200233635@okbizaxis</td>\n",
       "      <td>SAVINGS</td>\n",
       "      <td>Personal Transfer</td>\n",
       "      <td>TRANSFER_FRIENDS_AND_FAMILY</td>\n",
       "    </tr>\n",
       "    <tr>\n",
       "      <th>1</th>\n",
       "      <td>H VIGNESH</td>\n",
       "      <td>7019270274@ybl</td>\n",
       "      <td>SAVINGS</td>\n",
       "      <td>SANJEEVA  C</td>\n",
       "      <td>Q513055970@ybl</td>\n",
       "      <td>SAVINGS</td>\n",
       "      <td>Personal Transfer</td>\n",
       "      <td>TRANSFER_FRIENDS_AND_FAMILY</td>\n",
       "    </tr>\n",
       "  </tbody>\n",
       "</table>\n",
       "</div>"
      ],
      "text/plain": [
       "  payer_name       payer_vpa payee_account_type   payee_name  \\\n",
       "0  H VIGNESH  7019270274@ybl            SAVINGS    PAVAN BAR   \n",
       "1  H VIGNESH  7019270274@ybl            SAVINGS  SANJEEVA  C   \n",
       "\n",
       "                    payee_vpa payer_account_type          Category1  \\\n",
       "0  gpay-11200233635@okbizaxis            SAVINGS  Personal Transfer   \n",
       "1              Q513055970@ybl            SAVINGS  Personal Transfer   \n",
       "\n",
       "                     Category2  \n",
       "0  TRANSFER_FRIENDS_AND_FAMILY  \n",
       "1  TRANSFER_FRIENDS_AND_FAMILY  "
      ]
     },
     "execution_count": 15,
     "metadata": {},
     "output_type": "execute_result"
    }
   ],
   "source": [
    "df2.head(2)"
   ]
  },
  {
   "cell_type": "code",
   "execution_count": 11,
   "metadata": {
    "collapsed": false
   },
   "outputs": [],
   "source": [
    "import pickle\n",
    "\n",
    "# Save the trained TF-IDF vectorizers to pickle files\n",
    "with open('pickle_letest/payer_name.pkl', 'wb') as file:\n",
    "    pickle.dump(tfidf_payer_name, file)\n",
    "    \n",
    "with open('pickle_letest/payer_vpa.pkl', 'wb') as file:\n",
    "    pickle.dump(tfidf_payer_vpa, file)\n",
    "\n",
    "with open('pickle_letest/payee_account_type.pkl', 'wb') as file:\n",
    "    pickle.dump(tfidf_payee_account_type, file)\n",
    "\n",
    "with open('pickle_letest/payee_name.pkl', 'wb') as file:\n",
    "    pickle.dump(tfidf_payee_name, file)\n",
    "\n",
    "with open('pickle_letest/payee_vpa.pkl', 'wb') as file:\n",
    "    pickle.dump(tfidf_payee_vpa, file)\n",
    "\n",
    "with open('pickle_letest/payer_account_type.pkl', 'wb') as file:\n",
    "    pickle.dump(tfidf_payer_account_type, file)\n",
    "    \n",
    "with open('pickle_letest/classifier1.pkl', 'wb') as file:\n",
    "    pickle.dump(clf_cat1, file)\n",
    "    \n",
    "with open('pickle_letest/classifier2.pkl', 'wb') as file:\n",
    "    pickle.dump(clf_cat2, file)"
   ]
  },
  {
   "cell_type": "code",
   "execution_count": 21,
   "metadata": {
    "collapsed": true
   },
   "outputs": [],
   "source": [
    "payer_name=\"H VIGNESH\"\n",
    "payer_vpa = \"7019270274@ybl\"\n",
    "payee_account_type=\"SAVINGS\"\n",
    "payee_name=\"SANJEEVA C\"\n",
    "payee_vpa=\"Q513055970@ybl\"\n",
    "payer_account_type=\"SAVINGS\"\n"
   ]
  },
  {
   "cell_type": "code",
   "execution_count": 22,
   "metadata": {
    "collapsed": false
   },
   "outputs": [
    {
     "name": "stdout",
     "output_type": "stream",
     "text": [
      "  category_level1 category_level2\n",
      "0        Shopping        Shopping\n"
     ]
    }
   ],
   "source": [
    "def get_predictions(payer_name, payer_vpa, payee_account_type, payee_name, payee_vpa, payer_account_type):\n",
    "    payer_name_tfidf = tfidf_payer_name.transform([payer_name])\n",
    "    payer_vpa_tfidf = tfidf_payer_vpa.transform([payer_vpa])\n",
    "    payee_account_type_tfidf = tfidf_payee_account_type.transform([payee_account_type])\n",
    "    payee_name_tfidf = tfidf_payee_name.transform([payee_name])\n",
    "    payee_vpa_tfidf = tfidf_payee_vpa.transform([payee_vpa])\n",
    "    payer_account_type_tfidf = tfidf_payer_account_type.transform([payer_account_type])\n",
    "\n",
    "    input_tfidf = pd.concat([pd.DataFrame(payer_name_tfidf.toarray()),\n",
    "                             pd.DataFrame(payer_vpa_tfidf.toarray()),\n",
    "                             pd.DataFrame(payee_account_type_tfidf.toarray()),\n",
    "                             pd.DataFrame(payee_name_tfidf.toarray()),\n",
    "                             pd.DataFrame(payee_vpa_tfidf.toarray()),\n",
    "                             pd.DataFrame(payer_account_type_tfidf.toarray())], axis=1)\n",
    "    \n",
    "    predictions1 = clf_cat1.predict(input_tfidf)\n",
    "    predictions2 = clf_cat2.predict(input_tfidf)\n",
    "    \n",
    "    predictions = pd.DataFrame({'category_level1':predictions1,'category_level2':predictions2})\n",
    "    \n",
    "    return predictions\n",
    "\n",
    "predictions = get_predictions(payer_name, payer_vpa, payee_account_type, payee_name, payee_vpa, payer_account_type)\n",
    "print(predictions)"
   ]
  },
  {
   "cell_type": "code",
   "execution_count": null,
   "metadata": {
    "collapsed": true
   },
   "outputs": [],
   "source": []
  }
 ],
 "metadata": {
  "kernelspec": {
   "display_name": "Python [Root]",
   "language": "python",
   "name": "Python [Root]"
  },
  "language_info": {
   "codemirror_mode": {
    "name": "ipython",
    "version": 2
   },
   "file_extension": ".py",
   "mimetype": "text/x-python",
   "name": "python",
   "nbconvert_exporter": "python",
   "pygments_lexer": "ipython2",
   "version": "2.7.12"
  }
 },
 "nbformat": 4,
 "nbformat_minor": 0
}
